{
  "nbformat": 4,
  "nbformat_minor": 0,
  "metadata": {
    "colab": {
      "provenance": [],
      "authorship_tag": "ABX9TyOYB6EU9GHSU8JJDfIDwJuv",
      "include_colab_link": true
    },
    "kernelspec": {
      "name": "python3",
      "display_name": "Python 3"
    },
    "language_info": {
      "name": "python"
    }
  },
  "cells": [
    {
      "cell_type": "markdown",
      "metadata": {
        "id": "view-in-github",
        "colab_type": "text"
      },
      "source": [
        "<a href=\"https://colab.research.google.com/github/chandini-creator/03-03_PDS_ASSIGNMENT_1/blob/main/question_1.ipynb\" target=\"_parent\"><img src=\"https://colab.research.google.com/assets/colab-badge.svg\" alt=\"Open In Colab\"/></a>"
      ]
    },
    {
      "cell_type": "markdown",
      "source": [
        "Name: Chandini Marrapu\n",
        "ID: 16358866\n",
        "Assignment 1\n",
        "Course: Principles of Data Science\n",
        "\n"
      ],
      "metadata": {
        "id": "15JtO-VKakTa"
      }
    },
    {
      "cell_type": "markdown",
      "source": [
        "Question 1"
      ],
      "metadata": {
        "id": "Rp8Rxrgqb4TL"
      }
    },
    {
      "cell_type": "markdown",
      "source": [
        "Importing necessary libraries"
      ],
      "metadata": {
        "id": "HOPMB_fKbsf7"
      }
    },
    {
      "cell_type": "code",
      "source": [
        "import pandas as pd\n",
        "import matplotlib.pyplot as plt\n",
        "import seaborn as sns"
      ],
      "metadata": {
        "id": "lATH-dZEb2B8"
      },
      "execution_count": null,
      "outputs": []
    },
    {
      "cell_type": "markdown",
      "source": [
        "Stage 1: Data Collection"
      ],
      "metadata": {
        "id": "ylHPcVqKcCG_"
      }
    },
    {
      "cell_type": "code",
      "source": [
        "data = {\n",
        "    \"Height\": [65.8, 71.5, 69.4, 68.2, 67.8, 68.7, 69.8, 70.1, 67.9, 66.8],\n",
        "    \"Weight\": [112, 136, 153, 142, 144, 123, 141, 136, 112, 120],\n",
        "    \"Age\": [30, 19, 45, 22, 29, 50, 51, 23, 17, 39],\n",
        "    \"Grip Strength\": [30, 31, 29, 28, 24, 26, 22, 20, 19, 31],\n",
        "    \"Frailty\": [\"N\", \"N\", \"N\", \"Y\", \"Y\", \"N\", \"Y\", \"Y\", \"N\", \"N\"]\n",
        "}\n",
        "df = pd.DataFrame(data)\n",
        "print(df)"
      ],
      "metadata": {
        "colab": {
          "base_uri": "https://localhost:8080/"
        },
        "id": "8MdWXVMfcSMO",
        "outputId": "651f2ecc-cf4f-4620-d192-58d6381a5d56"
      },
      "execution_count": null,
      "outputs": [
        {
          "output_type": "stream",
          "name": "stdout",
          "text": [
            "   Height  Weight  Age  Grip Strength Frailty\n",
            "0    65.8     112   30             30       N\n",
            "1    71.5     136   19             31       N\n",
            "2    69.4     153   45             29       N\n",
            "3    68.2     142   22             28       Y\n",
            "4    67.8     144   29             24       Y\n",
            "5    68.7     123   50             26       N\n",
            "6    69.8     141   51             22       Y\n",
            "7    70.1     136   23             20       Y\n",
            "8    67.9     112   17             19       N\n",
            "9    66.8     120   39             31       N\n"
          ]
        }
      ]
    },
    {
      "cell_type": "markdown",
      "source": [
        "Stage 2: Data Processing"
      ],
      "metadata": {
        "id": "vb_4YCtSe9E3"
      }
    },
    {
      "cell_type": "markdown",
      "source": [
        "Convert Frailty to numerical"
      ],
      "metadata": {
        "id": "f7txmhBbfk4I"
      }
    },
    {
      "cell_type": "code",
      "source": [
        "df[\"Frailty\"] = df[\"Frailty\"].map({\"N\": 0, \"Y\": 1})"
      ],
      "metadata": {
        "id": "BPItNh2ecVWx"
      },
      "execution_count": null,
      "outputs": []
    },
    {
      "cell_type": "markdown",
      "source": [
        "Handle missing values"
      ],
      "metadata": {
        "id": "klxFgBg1iQAa"
      }
    },
    {
      "cell_type": "code",
      "source": [
        "# df_before_drop = df.shape[0]  # Number of rows before dropping\n",
        "# df = df.dropna()\n",
        "# df_after_drop = df.shape[0]  # Number of rows after dropping\n",
        "# print(f\"Rows before dropping NA: {df_before_drop}, Rows after dropping NA: {df_after_drop}\")"
      ],
      "metadata": {
        "colab": {
          "base_uri": "https://localhost:8080/"
        },
        "id": "CoYrpc7RiFcM",
        "outputId": "87754c07-bd0e-48aa-ba96-65d046b8cb3d"
      },
      "execution_count": null,
      "outputs": [
        {
          "output_type": "stream",
          "name": "stdout",
          "text": [
            "Rows before dropping NA: 0, Rows after dropping NA: 0\n"
          ]
        }
      ]
    },
    {
      "cell_type": "markdown",
      "source": [
        "Normalize numerical columns"
      ],
      "metadata": {
        "id": "bTWyt9b2ixc4"
      }
    },
    {
      "cell_type": "code",
      "source": [
        "for col in [\"Height\", \"Weight\", \"Age\", \"Grip Strength\"]:\n",
        "    df[col] = (df[col] - df[col].mean()) / df[col].std()\n",
        "    print(df.head(5))"
      ],
      "metadata": {
        "colab": {
          "base_uri": "https://localhost:8080/"
        },
        "id": "IWIpxLebiv6A",
        "outputId": "3bec77c5-3b0b-4e95-add6-c41f1537d19c"
      },
      "execution_count": null,
      "outputs": [
        {
          "output_type": "stream",
          "name": "stdout",
          "text": [
            "     Height    Weight       Age  Grip Strength  Frailty\n",
            "0 -1.675982 -1.398276 -0.194396       0.884652        0\n",
            "1  1.735839  0.288087 -1.049737       1.105815        0\n",
            "2  0.478852  1.482594  0.971979       0.663489        0\n",
            "3 -0.239426  0.709678 -0.816462       0.442326        1\n",
            "4 -0.478852  0.850208 -0.272154      -0.442326        1\n",
            "     Height    Weight       Age  Grip Strength  Frailty\n",
            "0 -1.675982 -1.398276 -0.194396       0.884652        0\n",
            "1  1.735839  0.288087 -1.049737       1.105815        0\n",
            "2  0.478852  1.482594  0.971979       0.663489        0\n",
            "3 -0.239426  0.709678 -0.816462       0.442326        1\n",
            "4 -0.478852  0.850208 -0.272154      -0.442326        1\n",
            "     Height    Weight       Age  Grip Strength  Frailty\n",
            "0 -1.675982 -1.398276 -0.194396       0.884652        0\n",
            "1  1.735839  0.288087 -1.049737       1.105815        0\n",
            "2  0.478852  1.482594  0.971979       0.663489        0\n",
            "3 -0.239426  0.709678 -0.816462       0.442326        1\n",
            "4 -0.478852  0.850208 -0.272154      -0.442326        1\n",
            "     Height    Weight       Age  Grip Strength  Frailty\n",
            "0 -1.675982 -1.398276 -0.194396       0.884652        0\n",
            "1  1.735839  0.288087 -1.049737       1.105815        0\n",
            "2  0.478852  1.482594  0.971979       0.663489        0\n",
            "3 -0.239426  0.709678 -0.816462       0.442326        1\n",
            "4 -0.478852  0.850208 -0.272154      -0.442326        1\n"
          ]
        }
      ]
    },
    {
      "cell_type": "markdown",
      "source": [
        "Stage 3: Data Analysis"
      ],
      "metadata": {
        "id": "VXH2X4XOlIma"
      }
    },
    {
      "cell_type": "markdown",
      "source": [
        "Showing summary statistics"
      ],
      "metadata": {
        "id": "gcS2naNglU_5"
      }
    },
    {
      "cell_type": "code",
      "source": [
        "summary_stats = df.describe()\n",
        "print(summary_stats)"
      ],
      "metadata": {
        "colab": {
          "base_uri": "https://localhost:8080/"
        },
        "id": "HktkZgMqj-Rd",
        "outputId": "2252393c-b4e4-43b5-d11e-5ec97c465eb6"
      },
      "execution_count": null,
      "outputs": [
        {
          "output_type": "stream",
          "name": "stdout",
          "text": [
            "          Height        Weight        Age  Grip Strength    Frailty\n",
            "count  10.000000  1.000000e+01  10.000000      10.000000  10.000000\n",
            "mean    0.000000 -2.220446e-17   0.000000       0.000000   0.400000\n",
            "std     1.000000  1.000000e+00   1.000000       1.000000   0.516398\n",
            "min    -1.675982 -1.398276e+00  -1.205254      -1.548141   0.000000\n",
            "25%    -0.463888 -7.834562e-01  -0.797023      -0.774070   0.000000\n",
            "50%    -0.089785  2.880870e-01  -0.233275       0.221163   0.000000\n",
            "75%     0.658422  6.921115e-01   0.855341       0.829361   1.000000\n",
            "max     1.735839  1.482594e+00   1.438529       1.105815   1.000000\n"
          ]
        }
      ]
    },
    {
      "cell_type": "markdown",
      "source": [
        "Creating co-relation heat map"
      ],
      "metadata": {
        "id": "zAcGr-sdld5Y"
      }
    },
    {
      "cell_type": "code",
      "source": [
        "plt.figure(figsize=(8, 6))\n",
        "sns.heatmap(df.corr(), annot=True, cmap='coolwarm', fmt=\".2f\")\n",
        "plt.title(\"Correlation Heatmap\")\n",
        "plt.show()"
      ],
      "metadata": {
        "colab": {
          "base_uri": "https://localhost:8080/",
          "height": 545
        },
        "id": "1_QkxDdUlZiz",
        "outputId": "24af1618-42de-424d-d44e-1f2cc867c342"
      },
      "execution_count": null,
      "outputs": [
        {
          "output_type": "display_data",
          "data": {
            "text/plain": [
              "<Figure size 800x600 with 2 Axes>"
            ],
            "image/png": "[encoded data removed]"
          },
          "metadata": {}
        }
      ]
    }
  ]
}